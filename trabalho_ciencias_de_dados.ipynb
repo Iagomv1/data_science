{
 "cells": [
  {
   "cell_type": "code",
   "execution_count": 2,
   "metadata": {},
   "outputs": [],
   "source": [
    "import pandas as pd\n",
    "import numpy as np\n",
    "import datetime\n",
    "from math import floor\n",
    "import matplotlib.pyplot as plt"
   ]
  },
  {
   "cell_type": "code",
   "execution_count": 3,
   "metadata": {},
   "outputs": [],
   "source": [
    "database = pd.read_excel(r\"C:\\Users\\Iago Vale\\Desktop\\database_final.xlsx\", sheet_name= 'Planilha1')"
   ]
  },
  {
   "cell_type": "code",
   "execution_count": 4,
   "metadata": {},
   "outputs": [
    {
     "data": {
      "text/plain": [
       "Index(['Column1', 'DT_NOTIFIC', 'ID_MUNICIP', 'ID_UNIDADE', 'ID_REGIONA',\n",
       "       'ID_RG_RESI', 'DT_OCOR', 'DT_NASC', 'CS_SEXO', 'CS_GESTANT', 'CS_RACA',\n",
       "       'CS_ESCOL_N', 'DEF_TRANS', 'DEF_FISICA', 'DEF_MENTAL', 'DEF_VISUAL',\n",
       "       'DEF_AUDITI', 'TRAN_MENT', 'TRAN_COMP', 'LOCAL_OCOR', 'OUT_VEZES',\n",
       "       'LES_AUTOP', 'VIOL_FISIC', 'VIOL_PSICO', 'VIOL_TORT', 'VIOL_SEXU',\n",
       "       'VIOL_TRAF', 'VIOL_FINAN', 'VIOL_INFAN', 'AG_ENFOR', 'AG_OBJETO',\n",
       "       'AG_CORTE', 'AG_ENVEN', 'AG_FOGO', 'AG_AMEACA', 'AG_OUTROS',\n",
       "       'SEX_ASSEDI', 'SEX_ESTUPR', 'REL_PAI', 'REL_MAE', 'REL_PAD', 'REL_CONJ',\n",
       "       'REL_EXCON', 'REL_NAMO', 'REL_EXNAM', 'REL_FILHO', 'REL_DESCO',\n",
       "       'REL_IRMAO', 'REL_CONHEC', 'AUTOR_SEXO', 'ORIENT_SEX', 'IDENT_GEN',\n",
       "       'DT_ENCERRA'],\n",
       "      dtype='object')"
      ]
     },
     "execution_count": 4,
     "metadata": {},
     "output_type": "execute_result"
    }
   ],
   "source": [
    "database.columns"
   ]
  },
  {
   "attachments": {},
   "cell_type": "markdown",
   "metadata": {},
   "source": [
    "O suicídio é um tema complexo e sensível que tem sido objeto de muitos estudos em diversas áreas, incluindo a psicologia, a sociologia e a saúde pública. O objetivo deste trabalho é analisar dados e referências sobre o tema, a fim de entender melhor o problema do suicídio e suas principais causas e fatores de risco.\n",
    "\n",
    "Para isso, serão utilizados dados de organizações internacionais, como a Organização Mundial da Saúde (OMS), que coletam e analisam informações sobre o suicídio em todo o mundo. Além disso, serão utilizados estudos e artigos científicos que abordam diferentes aspectos do suicídio, como os fatores de risco associados, as intervenções preventivas eficazes e as consequências para a saúde mental.\n",
    "\n",
    "Ao longo deste trabalho, serão discutidos temas importantes relacionados ao suicídio, como a importância da conscientização e do acesso a serviços de saúde mental, a relação entre o suicídio e a saúde pública e as estratégias eficazes para prevenção do suicídio. Espera-se que a análise desses dados e referências possa fornecer uma compreensão mais completa sobre o suicídio e suas implicações para a sociedade e para a saúde pública."
   ]
  },
  {
   "attachments": {},
   "cell_type": "markdown",
   "metadata": {},
   "source": [
    "Descrição do banco"
   ]
  },
  {
   "attachments": {},
   "cell_type": "markdown",
   "metadata": {},
   "source": [
    "O banco é oriundo do Departamento de Informática do Sistema Único de Saúde do Brasil (DATASUS). Ele é responsável por coletar, processar e disseminar informações e estatísticas sobre a saúde pública do país. Com isso, a base foi filtrada para os meses de Janeiro, Fevereiro e Março do ano de 2021 considerando todos os estados do Brasil, devido a extensão do arquivo e da complexidade computacional que foi gerada.  "
   ]
  },
  {
   "attachments": {},
   "cell_type": "markdown",
   "metadata": {},
   "source": [
    "### Análises"
   ]
  },
  {
   "attachments": {},
   "cell_type": "markdown",
   "metadata": {},
   "source": [
    "Ocorrências ao longo dos meses"
   ]
  },
  {
   "cell_type": "code",
   "execution_count": 5,
   "metadata": {},
   "outputs": [
    {
     "data": {
      "text/plain": [
       "(array([8220.,    0., 8276.,    0., 7934.]),\n",
       " array([0. , 0.4, 0.8, 1.2, 1.6, 2. ]),\n",
       " <BarContainer object of 5 artists>)"
      ]
     },
     "execution_count": 5,
     "metadata": {},
     "output_type": "execute_result"
    },
    {
     "data": {
      "image/png": "[encoded data removed]",
      "text/plain": [
       "<Figure size 432x288 with 1 Axes>"
      ]
     },
     "metadata": {
      "needs_background": "light"
     },
     "output_type": "display_data"
    }
   ],
   "source": [
    "#tratamento dos dados para fazer a ocorrencia deles. ou seja, catetgorizar os dias em meses\n",
    "database['mes'] = database['DT_NOTIFIC'].dt.month\n",
    "database['contagem_meses'] = database.groupby('mes')['DT_NOTIFIC'].count()\n",
    "database['mes'].replace({1: \"janeiro\", 2: \"fevereiro\", 3: \"março\"}, inplace = True)\n",
    "plt.hist(database['mes'], 5, rwidth = 0.9)"
   ]
  },
  {
   "attachments": {},
   "cell_type": "markdown",
   "metadata": {},
   "source": [
    "Aqui conseguimos observar a frequência de ocorrências de sucídios registrados no país e conseguimos obsevar que os valores são bem próximos ao longo dos meses de janeiro, fevereiro e março de 2021."
   ]
  },
  {
   "attachments": {},
   "cell_type": "markdown",
   "metadata": {},
   "source": [
    "Raças"
   ]
  },
  {
   "cell_type": "code",
   "execution_count": 6,
   "metadata": {},
   "outputs": [],
   "source": [
    "#categorizar as raças\n",
    "database['CS_RACA'].replace({1: 'Branca', 2: 'Preta', 3: 'Amarela', 4:'Parda', 5:'Indigena', 9: 'Ignorado'}, inplace= True)"
   ]
  },
  {
   "cell_type": "code",
   "execution_count": 8,
   "metadata": {},
   "outputs": [
    {
     "data": {
      "text/plain": [
       "Text(0, 0.5, 'Número de Suicídios')"
      ]
     },
     "execution_count": 8,
     "metadata": {},
     "output_type": "execute_result"
    },
    {
     "data": {
      "image/png": "[encoded data removed]",
      "text/plain": [
       "<Figure size 432x288 with 1 Axes>"
      ]
     },
     "metadata": {
      "needs_background": "light"
     },
     "output_type": "display_data"
    }
   ],
   "source": [
    "counts = database['CS_RACA'].value_counts()\n",
    "plt.bar(counts.index, counts.values)\n",
    "plt.title('Histograma de Suicídios por Raça')\n",
    "plt.xlabel('Raça')\n",
    "plt.ylabel('Número de Suicídios')"
   ]
  },
  {
   "cell_type": "code",
   "execution_count": 9,
   "metadata": {},
   "outputs": [
    {
     "data": {
      "text/plain": [
       "Branca      10621\n",
       "Parda        9643\n",
       "Ignorado     2038\n",
       "Preta        1737\n",
       "Amarela       182\n",
       "Indigena      152\n",
       "Name: CS_RACA, dtype: int64"
      ]
     },
     "execution_count": 9,
     "metadata": {},
     "output_type": "execute_result"
    }
   ],
   "source": [
    "database['CS_RACA'].value_counts()"
   ]
  },
  {
   "attachments": {},
   "cell_type": "markdown",
   "metadata": {},
   "source": [
    "De acordo com o gráfico acima, conseguimos entender observar que a quantidade de pessoas que mais comum entre pessoas declaradas brancas e pardas. Com valores absolutos de 10621 casos para brancos e 9643 para pardos. Enquanto os auto declarados indígenas e pardas tiveram 182 e 152 casos registrados, respectivamente."
   ]
  },
  {
   "attachments": {},
   "cell_type": "markdown",
   "metadata": {},
   "source": [
    "Idade"
   ]
  },
  {
   "attachments": {},
   "cell_type": "markdown",
   "metadata": {},
   "source": [
    "A Organização Mundial da Saúde (OMS) estabelece uma classificação das faixas etárias baseada nas idades, visando orientar profissionais de saúde e demais interessados no assunto. De acordo com a OMS, a categoria Criança é composta por indivíduos de 0 a 9 anos de idade. Já a categoria Adolescente engloba aqueles que têm entre 10 e 19 anos. A categoria Adulto Jovem se estende dos 20 aos 24 anos de idade. A categoria Adulto é formada por pessoas de 25 a 64 anos, enquanto a categoria Idoso abrange os indivíduos com mais de 65 anos de idade. É importante lembrar que essa classificação é apenas uma referência e que cada pessoa pode ter um desenvolvimento diferente em relação à idade."
   ]
  },
  {
   "cell_type": "code",
   "execution_count": 20,
   "metadata": {},
   "outputs": [],
   "source": [
    "def calcular_idade(data_nascimento):\n",
    "    hoje = datetime.date.today()\n",
    "    idade = hoje.year - data_nascimento.year - ((hoje.month, hoje.day) < (data_nascimento.month, data_nascimento.day))\n",
    "    return idade\n",
    "\n",
    "database['IDADE'] = database['DT_NASC'].apply(calcular_idade)\n",
    "database['IDADE']\n",
    "\n",
    "def categorizar_idade(idade):\n",
    "    if idade < 10:\n",
    "        return 'Criança'\n",
    "    elif idade < 20:\n",
    "        return 'Adolescente'\n",
    "    elif idade < 25:\n",
    "        return 'Adulto Jovem'\n",
    "    elif idade < 65:\n",
    "        return 'Adulto'\n",
    "    else:\n",
    "        return 'Idoso'\n",
    "\n",
    "database['faixa_etaria'] = database['IDADE'].apply(categorizar_idade)"
   ]
  },
  {
   "cell_type": "code",
   "execution_count": 21,
   "metadata": {},
   "outputs": [
    {
     "data": {
      "image/png": "[encoded data removed]",
      "text/plain": [
       "<Figure size 432x288 with 1 Axes>"
      ]
     },
     "metadata": {
      "needs_background": "light"
     },
     "output_type": "display_data"
    }
   ],
   "source": [
    "counts = database['faixa_etaria'].value_counts()\n",
    "counts.plot.bar()\n",
    "plt.xlabel('Faixa etária')\n",
    "plt.ylabel('Número de ocorrências')\n",
    "plt.show()"
   ]
  },
  {
   "attachments": {},
   "cell_type": "markdown",
   "metadata": {},
   "source": [
    "De acordo com o gráfico acima, é possível observar que a taxa de suicídio é consideravelmente maior que em relação às demais idades, uma maneira de visualizar isso, é repartindo ainda mais essa divisão."
   ]
  },
  {
   "cell_type": "code",
   "execution_count": 22,
   "metadata": {},
   "outputs": [],
   "source": [
    "def categorizar_idade1(idade):\n",
    "    if idade < 10:\n",
    "        return '0-9 anos'\n",
    "    elif idade < 20:\n",
    "        return '0-19 anos'\n",
    "    elif idade < 30:\n",
    "        return '20-29 anos'\n",
    "    elif idade < 40:\n",
    "        return '30-39 anos'\n",
    "    elif idade < 50:\n",
    "        return '40-49 anos'\n",
    "    elif idade < 60:\n",
    "        return '50-59 anos'\n",
    "    else:\n",
    "        return 'Idoso'\n",
    "\n",
    "database['faixa_etaria'] = database['IDADE'].apply(categorizar_idade1)"
   ]
  },
  {
   "cell_type": "code",
   "execution_count": 23,
   "metadata": {},
   "outputs": [
    {
     "data": {
      "image/png": "[encoded data removed]",
      "text/plain": [
       "<Figure size 432x288 with 1 Axes>"
      ]
     },
     "metadata": {
      "needs_background": "light"
     },
     "output_type": "display_data"
    }
   ],
   "source": [
    "counts = database['faixa_etaria'].value_counts()\n",
    "counts.plot.bar()\n",
    "plt.xlabel('Faixa etária')\n",
    "plt.ylabel('Número de ocorrências')\n",
    "plt.show()"
   ]
  },
  {
   "attachments": {},
   "cell_type": "markdown",
   "metadata": {},
   "source": [
    "Agora abrindo um pouco mais essas divisórias, é possível observar que os maior número de casos de suicídio no Brasil se concentra em pessoas de 20-29 anos de idade."
   ]
  },
  {
   "attachments": {},
   "cell_type": "markdown",
   "metadata": {},
   "source": [
    "Sexo"
   ]
  },
  {
   "cell_type": "code",
   "execution_count": 25,
   "metadata": {},
   "outputs": [],
   "source": [
    "database['CS_SEXO'].replace({'F' : 'Feminino', 'M': 'Masculino'}, inplace= True)"
   ]
  },
  {
   "cell_type": "code",
   "execution_count": 29,
   "metadata": {},
   "outputs": [
    {
     "data": {
      "text/plain": [
       "Text(0, 0.5, 'Número de Suicídios')"
      ]
     },
     "execution_count": 29,
     "metadata": {},
     "output_type": "execute_result"
    },
    {
     "data": {
      "image/png": "[encoded data removed]",
      "text/plain": [
       "<Figure size 432x288 with 1 Axes>"
      ]
     },
     "metadata": {
      "needs_background": "light"
     },
     "output_type": "display_data"
    }
   ],
   "source": [
    "counts_sexo = database['CS_SEXO'].value_counts()\n",
    "plt.bar(counts_sexo.index, counts_sexo.values)\n",
    "plt.title('Suicídios por Sexo')\n",
    "plt.xlabel('Sexo')\n",
    "plt.ylabel('Número de Suicídios')"
   ]
  },
  {
   "attachments": {},
   "cell_type": "markdown",
   "metadata": {},
   "source": [
    "Com isso, considerando o gráfico acima, vemos que o número de indivíduos do sexo feminino cometeu suicídio com uma taxa de 2.3 vezes maior em comparação ao sexo masculino. Enquanto temos apenas 6 casos pessoas com sexo indeterminado."
   ]
  },
  {
   "attachments": {},
   "cell_type": "markdown",
   "metadata": {},
   "source": [
    "Referências\n",
    "https://bvsms.saude.gov.br/bvs/publicacoes/07_0400_M.pdf\n",
    "\n",
    "\n",
    "\n",
    "https://datasus.saude.gov.br/transferencia-de-arquivos/#\n",
    "\n",
    "\n",
    "\n",
    "file:///C:/Users/Iago%20Vale/Desktop/DIC_DADOS_NET_Violencias_v5.pdf\n"
   ]
  }
 ],
 "metadata": {
  "kernelspec": {
   "display_name": "Python 3",
   "language": "python",
   "name": "python3"
  },
  "language_info": {
   "codemirror_mode": {
    "name": "ipython",
    "version": 3
   },
   "file_extension": ".py",
   "mimetype": "text/x-python",
   "name": "python",
   "nbconvert_exporter": "python",
   "pygments_lexer": "ipython3",
   "version": "3.10.4"
  },
  "orig_nbformat": 4
 },
 "nbformat": 4,
 "nbformat_minor": 2
}
